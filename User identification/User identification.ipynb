{
 "cells": [
  {
   "cell_type": "markdown",
   "metadata": {},
   "source": [
    "# <center> Идентификация пользователей по посещенным веб-страницам\n",
    "\n",
    "Будем решать задачу идентификации конкретного пользователя по его поведению в сети Интернет. \n",
    "В качестве исходных данных мы имеем информацию о 3372 пользователях (сайт и время посещения).\n",
    "Идея такая: пользователи Интернета по-разному переходят по ссылкам, и это может помочь их идентифицировать."
   ]
  },
  {
   "cell_type": "code",
   "execution_count": 168,
   "metadata": {},
   "outputs": [],
   "source": [
    "from time import time\n",
    "import itertools\n",
    "import os\n",
    "import numpy as np\n",
    "import pandas as pd\n",
    "import seaborn as sns\n",
    "from matplotlib import pyplot as plt\n",
    "%matplotlib inline\n",
    "import pickle\n",
    "from glob import glob\n",
    "from scipy.sparse import csr_matrix\n",
    "from sklearn.model_selection import train_test_split, cross_val_score, StratifiedKFold, GridSearchCV, StratifiedShuffleSplit\n",
    "from sklearn.linear_model import SGDClassifier\n",
    "from sklearn.ensemble import AdaBoostClassifier\n",
    "from sklearn.naive_bayes import MultinomialNB\n",
    "from sklearn.model_selection import GridSearchCV\n",
    "from sklearn.metrics import accuracy_score, f1_score, roc_auc_score\n",
    "import datetime\n",
    "import more_itertools\n",
    "from scipy.sparse import hstack, vstack\n",
    "from sklearn.preprocessing import OneHotEncoder\n",
    "\n",
    "import sys\n",
    "import warnings\n",
    "if not sys.warnoptions:\n",
    "    warnings.simplefilter(\"ignore\")"
   ]
  },
  {
   "cell_type": "code",
   "execution_count": 2,
   "metadata": {},
   "outputs": [],
   "source": [
    "path_to_csv_files = 'D:\\\\data_science\\\\user_identification\\\\allusers'"
   ]
  },
  {
   "cell_type": "markdown",
   "metadata": {},
   "source": [
    "Подготовим словарь ключом для которого будут названия сайтов, а значениями индекс сайта и сколько раз он встречался в выборке"
   ]
  },
  {
   "cell_type": "code",
   "execution_count": 3,
   "metadata": {},
   "outputs": [
    {
     "name": "stdout",
     "output_type": "stream",
     "text": [
      "Wall time: 1min 19s\n"
     ]
    }
   ],
   "source": [
    "%%time\n",
    "all_site=np.array(0)\n",
    "for i in glob((path_to_csv_files + '\\\\*.csv')):        #прочитае данные и запишем в массив\n",
    "    df = pd.read_csv(i, sep=';', names=['id','time','site'])\n",
    "    all_site = np.hstack((all_site,df.site.values))\n",
    "unique_site = pd.value_counts(all_site[1:]) #посчитаем сколько раз посещали каждый сайт\n",
    "sites = unique_site.index #запишем уникальные названия сайтов\n",
    "count_and_ind = np.vstack((unique_site.values, np.arange(1, (unique_site.shape[0]+1)))).T\n",
    "dict_site = dict(zip(sites,count_and_ind))  #создадим словарь "
   ]
  },
  {
   "cell_type": "markdown",
   "metadata": {},
   "source": [
    "## Анализ данных"
   ]
  },
  {
   "cell_type": "markdown",
   "metadata": {},
   "source": [
    "Подготовим данные для их последующей обработки. Для этого разобъем данные о пользователях на сессии и поменяем названия сайтов на их индекс, который мы присвоили в словаре. Примем продолжительность сессии из 15 сайтов со скользящим окном из 5 сайтов. "
   ]
  },
  {
   "cell_type": "code",
   "execution_count": 4,
   "metadata": {},
   "outputs": [],
   "source": [
    "def prepare_train_set_with_fe(path_to_csv_files, dict_site, session_length=10, window_size=10):\n",
    "\n",
    "    #Создадим названия для будущего датафрейма\n",
    "    columns_site = ['site' + str(i) for i in range(1,session_length+1)]\n",
    "    columns_time = ['time' + str(k) for k in range(1,session_length+1)]\n",
    "    feature_names = columns_time + columns_site \n",
    "    \n",
    "    \n",
    "    dict_site = dict_site #Подгрузим словарь с индексами сайтов\n",
    "    table_site, table_timestamp, user = [], [], [] \n",
    "\n",
    "    #разобъем выборку на сессии\n",
    "    for i in glob((path_to_csv_files + '\\\\*.csv')):\n",
    "        df = pd.read_csv(i,sep=';', names=['id','time','site'])      \n",
    "        site_ind = [dict_site[b][0] for b in df.site.values] \n",
    "        time = [datetime.datetime.strptime(i, \"%d-%m-%YT%H:%M:%S\") for i in df.time]       \n",
    "      \n",
    "        site_ind_windowed = list(more_itertools.windowed(site_ind, session_length, step=window_size, \n",
    "                                         fillvalue=0))     \n",
    "        time_windowed = list(more_itertools.windowed(time, session_length, step=window_size, \n",
    "                                         fillvalue=0))      \n",
    "        while site_ind_windowed[-1] == tuple([0]*session_length):        \n",
    "            site_ind_windowed = site_ind_windowed[:-1]\n",
    "            time_windowed = time_windowed[:-1]  \n",
    "        table_site += site_ind_windowed\n",
    "        table_timestamp += time_windowed \n",
    "        user += [int(i[-8:-4])]*len(site_ind_windowed)    \n",
    "    \n",
    "    #Объединим все в DataFrame\n",
    "    time_and_site = np.hstack((table_timestamp, table_site))\n",
    "    data_with_fe = pd.DataFrame(time_and_site, columns = feature_names)\n",
    "    data_with_fe['user'] = user     \n",
    "\n",
    "  \n",
    "    return(data_with_fe) "
   ]
  },
  {
   "cell_type": "code",
   "execution_count": 5,
   "metadata": {},
   "outputs": [
    {
     "name": "stdout",
     "output_type": "stream",
     "text": [
      "Wall time: 1min 43s\n"
     ]
    }
   ],
   "source": [
    "%%time\n",
    "train_test_data = prepare_train_set_with_fe(path_to_csv_files, dict_site, session_length=15, window_size=5)"
   ]
  },
  {
   "cell_type": "markdown",
   "metadata": {},
   "source": [
    "Посмотрим на получившуюся таблицу с данными.\n",
    "- time1...time15 - время посещения сайтов в сессии\n",
    "- site1...site15 - индекс сайта\n",
    "- user - id пользователя"
   ]
  },
  {
   "cell_type": "code",
   "execution_count": 15,
   "metadata": {},
   "outputs": [
    {
     "data": {
      "text/html": [
       "<div>\n",
       "<style scoped>\n",
       "    .dataframe tbody tr th:only-of-type {\n",
       "        vertical-align: middle;\n",
       "    }\n",
       "\n",
       "    .dataframe tbody tr th {\n",
       "        vertical-align: top;\n",
       "    }\n",
       "\n",
       "    .dataframe thead th {\n",
       "        text-align: right;\n",
       "    }\n",
       "</style>\n",
       "<table border=\"1\" class=\"dataframe\">\n",
       "  <thead>\n",
       "    <tr style=\"text-align: right;\">\n",
       "      <th></th>\n",
       "      <th>time1</th>\n",
       "      <th>time2</th>\n",
       "      <th>time3</th>\n",
       "      <th>time4</th>\n",
       "      <th>time5</th>\n",
       "      <th>time6</th>\n",
       "      <th>time7</th>\n",
       "      <th>time8</th>\n",
       "      <th>time9</th>\n",
       "      <th>time10</th>\n",
       "      <th>...</th>\n",
       "      <th>site7</th>\n",
       "      <th>site8</th>\n",
       "      <th>site9</th>\n",
       "      <th>site10</th>\n",
       "      <th>site11</th>\n",
       "      <th>site12</th>\n",
       "      <th>site13</th>\n",
       "      <th>site14</th>\n",
       "      <th>site15</th>\n",
       "      <th>user</th>\n",
       "    </tr>\n",
       "  </thead>\n",
       "  <tbody>\n",
       "    <tr>\n",
       "      <th>121144</th>\n",
       "      <td>2013-11-15 07:39:35</td>\n",
       "      <td>2013-11-15 07:39:35</td>\n",
       "      <td>2013-11-15 07:39:36</td>\n",
       "      <td>2013-11-15 07:39:36</td>\n",
       "      <td>2013-11-15 07:39:40</td>\n",
       "      <td>2013-11-15 07:39:41</td>\n",
       "      <td>2013-11-15 07:42:50</td>\n",
       "      <td>2013-11-15 07:42:50</td>\n",
       "      <td>2013-11-15 07:42:50</td>\n",
       "      <td>2013-11-15 07:44:25</td>\n",
       "      <td>...</td>\n",
       "      <td>1070</td>\n",
       "      <td>1871</td>\n",
       "      <td>1475</td>\n",
       "      <td>1070</td>\n",
       "      <td>1475</td>\n",
       "      <td>1871</td>\n",
       "      <td>1070</td>\n",
       "      <td>1871</td>\n",
       "      <td>1475</td>\n",
       "      <td>174</td>\n",
       "    </tr>\n",
       "    <tr>\n",
       "      <th>121145</th>\n",
       "      <td>2013-11-15 07:39:41</td>\n",
       "      <td>2013-11-15 07:42:50</td>\n",
       "      <td>2013-11-15 07:42:50</td>\n",
       "      <td>2013-11-15 07:42:50</td>\n",
       "      <td>2013-11-15 07:44:25</td>\n",
       "      <td>2013-11-15 07:44:25</td>\n",
       "      <td>2013-11-15 07:44:25</td>\n",
       "      <td>2013-11-15 07:57:45</td>\n",
       "      <td>2013-11-15 07:57:45</td>\n",
       "      <td>2013-11-15 07:57:45</td>\n",
       "      <td>...</td>\n",
       "      <td>1871</td>\n",
       "      <td>1070</td>\n",
       "      <td>1871</td>\n",
       "      <td>1475</td>\n",
       "      <td>1475</td>\n",
       "      <td>1475</td>\n",
       "      <td>1070</td>\n",
       "      <td>1871</td>\n",
       "      <td>1475</td>\n",
       "      <td>174</td>\n",
       "    </tr>\n",
       "    <tr>\n",
       "      <th>121146</th>\n",
       "      <td>2013-11-15 07:44:25</td>\n",
       "      <td>2013-11-15 07:44:25</td>\n",
       "      <td>2013-11-15 07:57:45</td>\n",
       "      <td>2013-11-15 07:57:45</td>\n",
       "      <td>2013-11-15 07:57:45</td>\n",
       "      <td>2013-11-15 07:57:46</td>\n",
       "      <td>2013-11-15 07:57:47</td>\n",
       "      <td>2013-11-15 07:57:49</td>\n",
       "      <td>2013-11-15 07:57:49</td>\n",
       "      <td>2013-11-15 07:57:49</td>\n",
       "      <td>...</td>\n",
       "      <td>1475</td>\n",
       "      <td>1070</td>\n",
       "      <td>1871</td>\n",
       "      <td>1475</td>\n",
       "      <td>1475</td>\n",
       "      <td>1475</td>\n",
       "      <td>1070</td>\n",
       "      <td>1871</td>\n",
       "      <td>1475</td>\n",
       "      <td>174</td>\n",
       "    </tr>\n",
       "    <tr>\n",
       "      <th>63</th>\n",
       "      <td>2013-11-15 07:52:19</td>\n",
       "      <td>2013-11-15 07:52:20</td>\n",
       "      <td>2013-11-15 07:52:20</td>\n",
       "      <td>2013-11-15 07:52:23</td>\n",
       "      <td>2013-11-15 07:52:26</td>\n",
       "      <td>2013-11-15 07:57:50</td>\n",
       "      <td>2013-11-15 08:01:18</td>\n",
       "      <td>2013-11-15 09:02:36</td>\n",
       "      <td>2013-11-15 09:02:37</td>\n",
       "      <td>2013-11-15 09:02:37</td>\n",
       "      <td>...</td>\n",
       "      <td>2316</td>\n",
       "      <td>135240</td>\n",
       "      <td>5015</td>\n",
       "      <td>2316</td>\n",
       "      <td>2316</td>\n",
       "      <td>196790</td>\n",
       "      <td>2316</td>\n",
       "      <td>89</td>\n",
       "      <td>120</td>\n",
       "      <td>1</td>\n",
       "    </tr>\n",
       "    <tr>\n",
       "      <th>0</th>\n",
       "      <td>2013-11-15 07:52:26</td>\n",
       "      <td>2013-11-15 07:52:28</td>\n",
       "      <td>2013-11-15 07:52:28</td>\n",
       "      <td>2013-11-15 07:52:29</td>\n",
       "      <td>2013-11-15 07:52:37</td>\n",
       "      <td>2013-11-15 07:52:37</td>\n",
       "      <td>2013-11-15 07:55:10</td>\n",
       "      <td>2013-11-15 07:55:10</td>\n",
       "      <td>2013-11-15 07:55:56</td>\n",
       "      <td>2013-11-15 08:01:26</td>\n",
       "      <td>...</td>\n",
       "      <td>14565</td>\n",
       "      <td>10663</td>\n",
       "      <td>8682</td>\n",
       "      <td>8682</td>\n",
       "      <td>196790</td>\n",
       "      <td>135240</td>\n",
       "      <td>196790</td>\n",
       "      <td>135240</td>\n",
       "      <td>8936</td>\n",
       "      <td>1</td>\n",
       "    </tr>\n",
       "  </tbody>\n",
       "</table>\n",
       "<p>5 rows × 31 columns</p>\n",
       "</div>"
      ],
      "text/plain": [
       "                     time1                time2                time3  \\\n",
       "121144 2013-11-15 07:39:35  2013-11-15 07:39:35  2013-11-15 07:39:36   \n",
       "121145 2013-11-15 07:39:41  2013-11-15 07:42:50  2013-11-15 07:42:50   \n",
       "121146 2013-11-15 07:44:25  2013-11-15 07:44:25  2013-11-15 07:57:45   \n",
       "63     2013-11-15 07:52:19  2013-11-15 07:52:20  2013-11-15 07:52:20   \n",
       "0      2013-11-15 07:52:26  2013-11-15 07:52:28  2013-11-15 07:52:28   \n",
       "\n",
       "                      time4                time5                time6  \\\n",
       "121144  2013-11-15 07:39:36  2013-11-15 07:39:40  2013-11-15 07:39:41   \n",
       "121145  2013-11-15 07:42:50  2013-11-15 07:44:25  2013-11-15 07:44:25   \n",
       "121146  2013-11-15 07:57:45  2013-11-15 07:57:45  2013-11-15 07:57:46   \n",
       "63      2013-11-15 07:52:23  2013-11-15 07:52:26  2013-11-15 07:57:50   \n",
       "0       2013-11-15 07:52:29  2013-11-15 07:52:37  2013-11-15 07:52:37   \n",
       "\n",
       "                      time7                time8                time9  \\\n",
       "121144  2013-11-15 07:42:50  2013-11-15 07:42:50  2013-11-15 07:42:50   \n",
       "121145  2013-11-15 07:44:25  2013-11-15 07:57:45  2013-11-15 07:57:45   \n",
       "121146  2013-11-15 07:57:47  2013-11-15 07:57:49  2013-11-15 07:57:49   \n",
       "63      2013-11-15 08:01:18  2013-11-15 09:02:36  2013-11-15 09:02:37   \n",
       "0       2013-11-15 07:55:10  2013-11-15 07:55:10  2013-11-15 07:55:56   \n",
       "\n",
       "                     time10  ...  site7   site8 site9 site10  site11  site12  \\\n",
       "121144  2013-11-15 07:44:25  ...   1070    1871  1475   1070    1475    1871   \n",
       "121145  2013-11-15 07:57:45  ...   1871    1070  1871   1475    1475    1475   \n",
       "121146  2013-11-15 07:57:49  ...   1475    1070  1871   1475    1475    1475   \n",
       "63      2013-11-15 09:02:37  ...   2316  135240  5015   2316    2316  196790   \n",
       "0       2013-11-15 08:01:26  ...  14565   10663  8682   8682  196790  135240   \n",
       "\n",
       "        site13  site14 site15 user  \n",
       "121144    1070    1871   1475  174  \n",
       "121145    1070    1871   1475  174  \n",
       "121146    1070    1871   1475  174  \n",
       "63        2316      89    120    1  \n",
       "0       196790  135240   8936    1  \n",
       "\n",
       "[5 rows x 31 columns]"
      ]
     },
     "execution_count": 15,
     "metadata": {},
     "output_type": "execute_result"
    }
   ],
   "source": [
    "train_test_data.head()"
   ]
  },
  {
   "cell_type": "markdown",
   "metadata": {},
   "source": [
    "Для того чтобы наш проект был приближен к реальной задаче, отсортируем данные по времени. Заодно и перемешаем их"
   ]
  },
  {
   "cell_type": "code",
   "execution_count": 7,
   "metadata": {},
   "outputs": [],
   "source": [
    "train_test_data.sort_values(by='time1', inplace=True)"
   ]
  },
  {
   "cell_type": "code",
   "execution_count": 40,
   "metadata": {},
   "outputs": [
    {
     "name": "stdout",
     "output_type": "stream",
     "text": [
      "2013-11-15 07:39:35\n",
      "2014-05-28 19:10:15\n",
      "194 days 11:30:40\n"
     ]
    }
   ],
   "source": [
    "print(train_test_data.time1.min())\n",
    "print(train_test_data.time1.max())\n",
    "print(train_test_data.time1.max() - train_test_data.time1.min())"
   ]
  },
  {
   "cell_type": "markdown",
   "metadata": {},
   "source": [
    " Мы имеем данные о пользователях примерно за 6.5 месяцев. Будем надеяться, что этого достаточно для точной идентификации пользователя."
   ]
  },
  {
   "cell_type": "markdown",
   "metadata": {},
   "source": [
    "Займемся созданием признаков, которые можно будет использовать для обучения модели. \n",
    "Приведем данные о посещенных сайтов к формату разреженной матрицы."
   ]
  },
  {
   "cell_type": "code",
   "execution_count": 9,
   "metadata": {},
   "outputs": [],
   "source": [
    "train_test_site = train_test_data.iloc[:,15:30]\n",
    "indptr = list(range(0,(train_test_site.size+15),15))\n",
    "indices = train_test_site.values.reshape((1,train_test_site.size))[0]\n",
    "data = np.ones(train_test_site.size)\n",
    "train_test_sparse = csr_matrix((data, indices, indptr), dtype=int)\n",
    "train_test_sparse = train_test_sparse[:,1:]"
   ]
  },
  {
   "cell_type": "markdown",
   "metadata": {},
   "source": [
    "Создадим новые признаки:\n",
    "- unique_sites - число уникальных сайтов в сессии\n",
    "- start_hour - час начала сессии\n",
    "- day_of_week - день недели (0-понедельник, 6-воскресенье)\n",
    "- day - день в месяце\n",
    "- session_timespan - продолжительность сессии"
   ]
  },
  {
   "cell_type": "code",
   "execution_count": 41,
   "metadata": {},
   "outputs": [],
   "source": [
    "columns_site = ['site' + str(i) for i in range(1,16)]\n",
    "columns_time = ['time' + str(k) for k in range(1,16)]\n",
    "df_fe=pd.DataFrame()\n",
    "df_fe['start_hour'] = [i.hour for i in train_test_data.time1] \n",
    "df_fe['day_of_week'] = [i.dayofweek for i in train_test_data.time1]\n",
    "df_fe['unique_sites'] = [len(np.unique(i)) for i in train_test_data[columns_site].values]\n",
    "df_fe['day'] = [i.day for i in train_test_data.time1]\n",
    "df_fe['session_timespan'] = [(np.max(list(filter(bool, i))) - np.min(list(filter(bool, i)))).seconds \n",
    "                                       for i in train_test_data[columns_time].values]"
   ]
  },
  {
   "cell_type": "markdown",
   "metadata": {},
   "source": [
    "Выделим одного пользователя, которого будем пытаться опознать. Пусть это будет \"user600\", назовем его \"Ash\". Обозначим его цифрой 1, остальные пользователи будут 0."
   ]
  },
  {
   "cell_type": "code",
   "execution_count": 42,
   "metadata": {},
   "outputs": [],
   "source": [
    "df_fe['user'] = [1 if x==600 else 0 for x in train_test_data.user]"
   ]
  },
  {
   "cell_type": "markdown",
   "metadata": {},
   "source": [
    "Настало время внимательно изучить наши признаки и проанализиовать их.\n",
    "Для этого будем смотреть отдельно на поведение пользователя Ash и на поведение всех остальных. "
   ]
  },
  {
   "cell_type": "markdown",
   "metadata": {},
   "source": [
    "Построим гистограмму распределения числа уникальных сайтов в сессии."
   ]
  },
  {
   "cell_type": "code",
   "execution_count": 26,
   "metadata": {},
   "outputs": [
    {
     "data": {
      "image/png": "[encoded data removed]",
      "text/plain": [
       "<Figure size 1152x576 with 2 Axes>"
      ]
     },
     "metadata": {
      "needs_background": "light"
     },
     "output_type": "display_data"
    }
   ],
   "source": [
    "color = ['red','blue']\n",
    "labels = ['Other', 'Ash']\n",
    "fig, axes = plt.subplots(nrows=1, ncols=2, figsize=(16, 8))\n",
    "for idx, (user, sub_df) in  enumerate(df_fe.groupby('user')): \n",
    "    a, b = idx // 2, idx % 2\n",
    "    axes[user].hist(sub_df.unique_sites, color = color[user], label = labels[user], bins=np.arange(1,17)-0.5)    \n",
    "    axes[user].legend()\n",
    "    axes[user].set_xlabel('Уникальные сайты')\n",
    "    axes[user].set_ylabel('Количество сессий')"
   ]
  },
  {
   "cell_type": "markdown",
   "metadata": {},
   "source": [
    "Гистограммы похожи, Ash отличается большим количеством сессий с маленьким числом уникальных сайтов. Можно попробовать использовать этот признак. Но кажется, что пользы от этого сильно не будет"
   ]
  },
  {
   "cell_type": "markdown",
   "metadata": {},
   "source": [
    "Построим гистограмму распределения времени начала сессии."
   ]
  },
  {
   "cell_type": "code",
   "execution_count": 27,
   "metadata": {},
   "outputs": [
    {
     "data": {
      "image/png": "[encoded data removed]",
      "text/plain": [
       "<Figure size 1152x576 with 2 Axes>"
      ]
     },
     "metadata": {
      "needs_background": "light"
     },
     "output_type": "display_data"
    }
   ],
   "source": [
    "fig, axes = plt.subplots(nrows=1, ncols=2, figsize=(16, 8))\n",
    "for idx, (user, sub_df) in  enumerate(df_fe.groupby('user')): \n",
    "    a, b = idx // 2, idx % 2\n",
    "    axes[user].hist(sub_df.start_hour, color = color[user], label = labels[user], bins=np.arange(7,24)-0.5)    \n",
    "    axes[user].legend()\n",
    "    axes[user].set_xlabel('Час начала')\n",
    "    axes[user].set_ylabel('Количество сессий')"
   ]
  },
  {
   "cell_type": "markdown",
   "metadata": {},
   "source": [
    "А вот это отличный признак! Видно какое время характерно для Asha. Этот признак мы точно оставим."
   ]
  },
  {
   "cell_type": "markdown",
   "metadata": {},
   "source": [
    "Построим гистограмму распределения дня недели, в который произошло начало сессии."
   ]
  },
  {
   "cell_type": "code",
   "execution_count": 28,
   "metadata": {},
   "outputs": [
    {
     "data": {
      "image/png": "[encoded data removed]",
      "text/plain": [
       "<Figure size 1152x576 with 2 Axes>"
      ]
     },
     "metadata": {
      "needs_background": "light"
     },
     "output_type": "display_data"
    }
   ],
   "source": [
    "fig, axes = plt.subplots(nrows=1, ncols=2, figsize=(16, 8))\n",
    "ticks = ['Пн', 'Вт', 'Ср', 'Чт', 'Пт', 'Сб', 'Вс']\n",
    "for idx, (user, sub_df) in  enumerate(df_fe.groupby('user')): \n",
    "    a, b = idx // 2, idx % 2\n",
    "    axes[user].hist(sub_df.day_of_week, color = color[user], label = labels[user], bins=np.arange(0,8)-0.5)    \n",
    "    axes[user].legend()\n",
    "    axes[user].set_xticks(np.arange(7))\n",
    "    axes[user].set_xticklabels(ticks)\n",
    "    axes[user].set_xlabel('День недели')\n",
    "    axes[user].set_ylabel('Количество сессий')"
   ]
  },
  {
   "cell_type": "markdown",
   "metadata": {},
   "source": [
    "Тоже хороший признак. Видим,что Ash совсем не заходит в интернет в выходные дни и редко заходит в четверг. Зато часто заходит во вторник"
   ]
  },
  {
   "cell_type": "markdown",
   "metadata": {},
   "source": [
    "Построим гистограмму распределения дня (в месяце), в который произошло начало сессии."
   ]
  },
  {
   "cell_type": "code",
   "execution_count": 29,
   "metadata": {},
   "outputs": [
    {
     "data": {
      "image/png": "[encoded data removed]",
      "text/plain": [
       "<Figure size 1152x576 with 2 Axes>"
      ]
     },
     "metadata": {
      "needs_background": "light"
     },
     "output_type": "display_data"
    }
   ],
   "source": [
    "fig, axes = plt.subplots(nrows=1, ncols=2, figsize=(16, 8))\n",
    "for idx, (user, sub_df) in  enumerate(df_fe.groupby('user')): \n",
    "    a, b = idx // 2, idx % 2\n",
    "    axes[user].hist(sub_df.day, color = color[user], label = labels[user], bins=np.arange(1,33)-0.5)    \n",
    "    axes[user].legend()\n",
    "    axes[user].set_xlabel('Число (день)')\n",
    "    axes[user].set_ylabel('Количество сессий')"
   ]
  },
  {
   "cell_type": "markdown",
   "metadata": {},
   "source": [
    "В начале месяца Ash реже заходит в интернет. Возможно мы сможем это как-то использовать. Но, так как в нашей выборке не так много месяцев, сложно делать выводы по этому признаку"
   ]
  },
  {
   "cell_type": "markdown",
   "metadata": {},
   "source": [
    "Построим гистограмму распределения продолжительности сессии."
   ]
  },
  {
   "cell_type": "code",
   "execution_count": 45,
   "metadata": {},
   "outputs": [
    {
     "data": {
      "image/png": "[encoded data removed]",
      "text/plain": [
       "<Figure size 1152x576 with 2 Axes>"
      ]
     },
     "metadata": {
      "needs_background": "light"
     },
     "output_type": "display_data"
    }
   ],
   "source": [
    "fig, axes = plt.subplots(nrows=1, ncols=2, figsize=(16, 8))\n",
    "for idx, (user, sub_df) in  enumerate(df_fe.groupby('user')): \n",
    "    a, b = idx // 2, idx % 2\n",
    "    axes[user].hist(sub_df.session_timespan, color = color[user], label = labels[user], range = (0,200))    \n",
    "    axes[user].legend()\n",
    "    axes[user].set_xlabel('Продолжительность сессии')\n",
    "    axes[user].set_ylabel('Количество сессий')"
   ]
  },
  {
   "cell_type": "markdown",
   "metadata": {},
   "source": [
    "Для Asha характерно большее количество коротких сессий. Можно попробовать использовать этот признак"
   ]
  },
  {
   "cell_type": "markdown",
   "metadata": {},
   "source": [
    "Исходя из визуального анализа наших данных, можно выделить:\n",
    "- start_hour, day_of_week - сильные признаки, их мы точно оставим\n",
    "- unique_sites, day, session_timespan - сложно сказать будут ли работать эти признаки, надо пробовать"
   ]
  },
  {
   "cell_type": "markdown",
   "metadata": {},
   "source": [
    "## Обучение модели"
   ]
  },
  {
   "cell_type": "markdown",
   "metadata": {},
   "source": [
    "Обучим нашу первую модель!\n",
    "Мы решаем задачу бинарной классификации, так что в качестве классификатора будем пробовать:\n",
    "- логистическая регрессия, обучаемые стохастическим градиентным спуском SGDClassifier\n",
    "- адаптивный бустинг AdaBoostClassifier\n",
    "- наивный Байес MultinomialNB\n",
    "\n",
    "Оценить модель будем с помощью roc_auc_score — площадь (Area Under Curve) под кривой ошибок (Receiver Operating Characteristic curve ). Данная кривая представляет из себя линию от (0,0) до (1,1) в координатах True Positive Rate (TPR) и False Positive Rate (FPR)\n"
   ]
  },
  {
   "cell_type": "markdown",
   "metadata": {},
   "source": [
    "Разделим наши данные на три части не перемешивая, так как они отсортированы по времени\n",
    "\n",
    "- X_train, y_train - на ней мы будем обучать наши модели\n",
    "- X_valid, y_valid - на этой части мы будем проверять работу нашей модели\n",
    "- X_test, y_test - на этой части будет проводить финальное тестирование модели"
   ]
  },
  {
   "cell_type": "code",
   "execution_count": null,
   "metadata": {},
   "outputs": [],
   "source": [
    "def split(train_test_sparse, df_fe):\n",
    "    test_share = int(.75 * train_test_sparse.shape[0])\n",
    "    train_sparse, test_sparse = train_test_sparse[:test_share, :], train_test_sparse[test_share:, :]\n",
    "    train_df_fe, test_df_fe = df_fe.iloc[:test_share, :-1], df_fe.iloc[test_share:, :-1]\n",
    "    train_user = df_fe.user[:test_share]\n",
    "\n",
    "    train_share = int(.75 * train_sparse.shape[0])\n",
    "    X_train_concat = hstack((train_sparse, train_df_fe.values))\n",
    "    X_train_concat = csr_matrix(X_train_concat)\n",
    "    X_train, X_valid = X_train_concat[:train_share, :], X_train_concat[train_share:, :]\n",
    "    y_train, y_valid = train_user[:train_share], train_user[train_share:]\n",
    "\n",
    "    X_test = hstack((test_sparse, test_df_fe.values))\n",
    "    X_test = csr_matrix(X_test)\n",
    "    y_test = df_fe.user[test_share:]\n",
    "    \n",
    "    return(X_train, y_train, X_valid, y_valid, X_test, y_test)"
   ]
  },
  {
   "cell_type": "markdown",
   "metadata": {},
   "source": [
    "Для начала обучим классификаторы с двумя дополнительными признаками start_hour, day_of_week. Эти признаки нужно привести к бинарному виду с помощью OneHotEncoder."
   ]
  },
  {
   "cell_type": "code",
   "execution_count": 178,
   "metadata": {},
   "outputs": [],
   "source": [
    "onehot_encoder = OneHotEncoder(sparse=False)\n",
    "df_fe1 = pd.DataFrame(onehot_encoder.fit_transform(df_fe.iloc[:,:2]))\n",
    "df_fe1['user'] = [1 if x==600 else 0 for x in train_test_data.user]"
   ]
  },
  {
   "cell_type": "code",
   "execution_count": 179,
   "metadata": {},
   "outputs": [],
   "source": [
    "X_train, y_train, X_valid, y_valid, X_test, y_test = split(train_test_sparse, df_fe1)"
   ]
  },
  {
   "cell_type": "markdown",
   "metadata": {},
   "source": [
    "Посмотрим какого размера выборки у нас получились"
   ]
  },
  {
   "cell_type": "code",
   "execution_count": 65,
   "metadata": {},
   "outputs": [
    {
     "name": "stdout",
     "output_type": "stream",
     "text": [
      "431383 196814\n",
      "143795 196814\n",
      "191726 196814\n"
     ]
    }
   ],
   "source": [
    "print(*X_train.shape)\n",
    "print(*X_valid.shape)\n",
    "print(*X_test.shape)"
   ]
  },
  {
   "cell_type": "markdown",
   "metadata": {},
   "source": [
    "Зададим тип кросс-валидации: 5-кратная, с перемешиванием"
   ]
  },
  {
   "cell_type": "code",
   "execution_count": 75,
   "metadata": {},
   "outputs": [],
   "source": [
    "skf = StratifiedKFold(n_splits=5, shuffle=True)"
   ]
  },
  {
   "cell_type": "markdown",
   "metadata": {},
   "source": [
    "Вспомогательная функция для отрисовки кривых валидации после запуска GridSearchCV"
   ]
  },
  {
   "cell_type": "code",
   "execution_count": 71,
   "metadata": {},
   "outputs": [],
   "source": [
    "def plot_validation_curves(param_values, grid_cv_results_):\n",
    "    train_mu, train_std = grid_cv_results_['mean_train_score'], grid_cv_results_['std_train_score']\n",
    "    valid_mu, valid_std = grid_cv_results_['mean_test_score'], grid_cv_results_['std_test_score']\n",
    "    train_line = plt.plot(param_values, train_mu, '-', label='train', color='green')\n",
    "    valid_line = plt.plot(param_values, valid_mu, '-', label='test', color='red')\n",
    "    plt.fill_between(param_values, train_mu - train_std, train_mu + train_std, edgecolor='none',\n",
    "                     facecolor=train_line[0].get_color(), alpha=0.2)\n",
    "    plt.fill_between(param_values, valid_mu - valid_std, valid_mu + valid_std, edgecolor='none',\n",
    "                     facecolor=valid_line[0].get_color(), alpha=0.2)\n",
    "    plt.legend()"
   ]
  },
  {
   "cell_type": "code",
   "execution_count": 74,
   "metadata": {},
   "outputs": [
    {
     "data": {
      "text/plain": [
       "0.996290999271997"
      ]
     },
     "execution_count": 74,
     "metadata": {},
     "output_type": "execute_result"
    }
   ],
   "source": [
    "sgd = SGDClassifier(loss='log', n_jobs=-1)\n",
    "cross_val_score(sgd, X_train, y_train, cv=skf).mean()"
   ]
  },
  {
   "cell_type": "code",
   "execution_count": 77,
   "metadata": {},
   "outputs": [
    {
     "data": {
      "text/plain": [
       "0.9964648585350224"
      ]
     },
     "execution_count": 77,
     "metadata": {},
     "output_type": "execute_result"
    }
   ],
   "source": [
    "adaboost = AdaBoostClassifier(n_estimators=100)\n",
    "cross_val_score(adaboost, X_train, y_train, cv=skf).mean()"
   ]
  },
  {
   "cell_type": "code",
   "execution_count": 76,
   "metadata": {},
   "outputs": [
    {
     "data": {
      "text/plain": [
       "0.9942695937747457"
      ]
     },
     "execution_count": 76,
     "metadata": {},
     "output_type": "execute_result"
    }
   ],
   "source": [
    "bayes = MultinomialNB()\n",
    "cross_val_score(bayes, X_train, y_train, cv=skf).mean()"
   ]
  },
  {
   "cell_type": "markdown",
   "metadata": {},
   "source": [
    "Результаты всех классификаторов выглядят впечатляюще. Посмотрим как они покажут себя на нашей контрольной выборке"
   ]
  },
  {
   "cell_type": "code",
   "execution_count": 83,
   "metadata": {},
   "outputs": [
    {
     "data": {
      "text/plain": [
       "MultinomialNB(alpha=1.0, class_prior=None, fit_prior=True)"
      ]
     },
     "execution_count": 83,
     "metadata": {},
     "output_type": "execute_result"
    }
   ],
   "source": [
    "sgd.fit(X_train, y_train)\n",
    "adaboost.fit(X_train, y_train)\n",
    "bayes.fit(X_train, y_train)"
   ]
  },
  {
   "cell_type": "code",
   "execution_count": 85,
   "metadata": {},
   "outputs": [
    {
     "name": "stdout",
     "output_type": "stream",
     "text": [
      "SGDClassifier - 0.933\n",
      "AdaBoostClassifier - 0.893\n",
      "MultinomialNB - 0.751\n"
     ]
    }
   ],
   "source": [
    "print('SGDClassifier -', round(roc_auc_score(y_valid, sgd.predict_proba(X_valid)[:,1]),3))\n",
    "print('AdaBoostClassifier -', round(roc_auc_score(y_valid, adaboost.predict_proba(X_valid)[:,1]),3))\n",
    "print('MultinomialNB -', round(roc_auc_score(y_valid, bayes.predict_proba(X_valid)[:,1]),3))"
   ]
  },
  {
   "cell_type": "markdown",
   "metadata": {},
   "source": [
    "Результаты ожидаемо стали хуже. Можно сделать вывод, что логистическая регрессия работает лучше всего.\n",
    "Попробуем улучшить результат регрессии, поэкспериментировав с параметрами модели при помощи GridSearchCV."
   ]
  },
  {
   "cell_type": "code",
   "execution_count": 119,
   "metadata": {},
   "outputs": [
    {
     "name": "stdout",
     "output_type": "stream",
     "text": [
      "0.941\n"
     ]
    },
    {
     "data": {
      "image/png": "[encoded data removed]",
      "text/plain": [
       "<Figure size 432x288 with 1 Axes>"
      ]
     },
     "metadata": {
      "needs_background": "light"
     },
     "output_type": "display_data"
    }
   ],
   "source": [
    "param = {'alpha': [0.000001,0.00001,0.0001,0.001]}\n",
    "sgd = GridSearchCV(SGDClassifier(loss='log',n_jobs=-1), param_grid=param, scoring='roc_auc', return_train_score=True)\n",
    "sgd.fit(X_train, y_train)\n",
    "print(round(roc_auc_score(y_valid, sgd.best_estimator_.predict_proba(X_valid)[:,1]),3))\n",
    "plot_validation_curves(param['alpha'], sgd.cv_results_)\n",
    "plt.xlim((1.e-07,1.e-03))\n",
    "plt.show()"
   ]
  },
  {
   "cell_type": "code",
   "execution_count": 121,
   "metadata": {},
   "outputs": [
    {
     "name": "stdout",
     "output_type": "stream",
     "text": [
      "0.922\n"
     ]
    },
    {
     "data": {
      "image/png": "[encoded data removed]",
      "text/plain": [
       "<Figure size 432x288 with 1 Axes>"
      ]
     },
     "metadata": {
      "needs_background": "light"
     },
     "output_type": "display_data"
    }
   ],
   "source": [
    "param = {'max_iter': [1000,5000,10000,15000]}\n",
    "sgd = GridSearchCV(SGDClassifier(loss='log',n_jobs=-1), param_grid=param, scoring='roc_auc', return_train_score=True)\n",
    "sgd.fit(X_train, y_train)\n",
    "print(round(roc_auc_score(y_valid, sgd.best_estimator_.predict_proba(X_valid)[:,1]),3))\n",
    "plot_validation_curves(param['max_iter'], sgd.cv_results_)\n",
    "plt.xlim((500,16000))\n",
    "plt.show()"
   ]
  },
  {
   "cell_type": "code",
   "execution_count": 122,
   "metadata": {},
   "outputs": [
    {
     "name": "stdout",
     "output_type": "stream",
     "text": [
      "0.926\n"
     ]
    },
    {
     "data": {
      "image/png": "[encoded data removed]",
      "text/plain": [
       "<Figure size 432x288 with 1 Axes>"
      ]
     },
     "metadata": {
      "needs_background": "light"
     },
     "output_type": "display_data"
    }
   ],
   "source": [
    "param = {'n_iter_no_change':[3,5,10,15,20]}\n",
    "sgd = GridSearchCV(SGDClassifier(loss='log',n_jobs=-1), param_grid=param, scoring='roc_auc', return_train_score=True)\n",
    "sgd.fit(X_train, y_train)\n",
    "print(round(roc_auc_score(y_valid, sgd.best_estimator_.predict_proba(X_valid)[:,1]),3))\n",
    "plot_validation_curves(param['n_iter_no_change'], sgd.cv_results_)\n",
    "plt.xlim((1,25))\n",
    "plt.show()"
   ]
  },
  {
   "cell_type": "markdown",
   "metadata": {},
   "source": [
    "Исходя из данных графиков, уменьшим диапазон выбираемых параметров и переберем их все сразу. "
   ]
  },
  {
   "cell_type": "code",
   "execution_count": 180,
   "metadata": {},
   "outputs": [
    {
     "name": "stdout",
     "output_type": "stream",
     "text": [
      "0.941\n"
     ]
    }
   ],
   "source": [
    "param = {'alpha': [0.000001,0.00001], 'max_iter': [10000], 'n_iter_no_change':[10,15]}\n",
    "sgd = GridSearchCV(SGDClassifier(loss='log',n_jobs=-1), param_grid=param, scoring='roc_auc', return_train_score=True)\n",
    "sgd.fit(X_train, y_train)\n",
    "print(round(roc_auc_score(y_valid, sgd.best_estimator_.predict_proba(X_valid)[:,1]),3))"
   ]
  },
  {
   "cell_type": "code",
   "execution_count": 181,
   "metadata": {},
   "outputs": [
    {
     "data": {
      "text/plain": [
       "SGDClassifier(alpha=1e-05, average=False, class_weight=None,\n",
       "              early_stopping=False, epsilon=0.1, eta0=0.0, fit_intercept=True,\n",
       "              l1_ratio=0.15, learning_rate='optimal', loss='log',\n",
       "              max_iter=10000, n_iter_no_change=10, n_jobs=-1, penalty='l2',\n",
       "              power_t=0.5, random_state=None, shuffle=True, tol=0.001,\n",
       "              validation_fraction=0.1, verbose=0, warm_start=False)"
      ]
     },
     "execution_count": 181,
     "metadata": {},
     "output_type": "execute_result"
    }
   ],
   "source": [
    "sgd.best_estimator_"
   ]
  },
  {
   "cell_type": "markdown",
   "metadata": {},
   "source": [
    "Результат немного улучшился. Запомним лучшие параметры модели.\n",
    "Чтобы снизить элемент случайности обучим модель 10 раз и усредним результат."
   ]
  },
  {
   "cell_type": "code",
   "execution_count": 182,
   "metadata": {},
   "outputs": [
    {
     "data": {
      "text/plain": [
       "0.9391999999999999"
      ]
     },
     "execution_count": 182,
     "metadata": {},
     "output_type": "execute_result"
    }
   ],
   "source": [
    "roc_auc=[]\n",
    "for i in range(10):\n",
    "    sgd.best_estimator_.fit(X_train, y_train)\n",
    "    roc_auc.append(round(roc_auc_score(y_valid, sgd.best_estimator_.predict_proba(X_valid)[:,1]),3))\n",
    "np.mean(roc_auc)"
   ]
  },
  {
   "cell_type": "markdown",
   "metadata": {},
   "source": [
    "У нас еще остались признаки, которые мы не использовали, попробуем их добавить.\n",
    "Для начала unique_sites. "
   ]
  },
  {
   "cell_type": "code",
   "execution_count": 183,
   "metadata": {},
   "outputs": [],
   "source": [
    "onehot_encoder = OneHotEncoder(sparse=False)\n",
    "df_fe2 = pd.DataFrame(onehot_encoder.fit_transform(df_fe.iloc[:,:3]))\n",
    "df_fe2['user'] = [1 if x==600 else 0 for x in train_test_data.user]"
   ]
  },
  {
   "cell_type": "code",
   "execution_count": 184,
   "metadata": {},
   "outputs": [],
   "source": [
    "X_train, y_train, X_valid, y_valid, X_test, y_test = split(train_test_sparse, df_fe2)"
   ]
  },
  {
   "cell_type": "code",
   "execution_count": 185,
   "metadata": {},
   "outputs": [
    {
     "data": {
      "text/plain": [
       "0.9376999999999999"
      ]
     },
     "execution_count": 185,
     "metadata": {},
     "output_type": "execute_result"
    }
   ],
   "source": [
    "roc_auc=[]\n",
    "for i in range(10):\n",
    "    sgd.best_estimator_.fit(X_train, y_train)\n",
    "    roc_auc.append(round(roc_auc_score(y_valid, sgd.best_estimator_.predict_proba(X_valid)[:,1]),3))\n",
    "np.mean(roc_auc)"
   ]
  },
  {
   "cell_type": "markdown",
   "metadata": {},
   "source": [
    "Результат немного ухудшился, не будем оставлять этот признак. Посмотрим на признак day\n",
    "\n"
   ]
  },
  {
   "cell_type": "code",
   "execution_count": 187,
   "metadata": {},
   "outputs": [],
   "source": [
    "onehot_encoder = OneHotEncoder(sparse=False)\n",
    "df_fe3 = pd.DataFrame(onehot_encoder.fit_transform(df_fe.iloc[:,[0,1,3]]))\n",
    "df_fe3['user'] = [1 if x==600 else 0 for x in train_test_data.user]"
   ]
  },
  {
   "cell_type": "code",
   "execution_count": 188,
   "metadata": {},
   "outputs": [],
   "source": [
    "X_train, y_train, X_valid, y_valid, X_test, y_test = split(train_test_sparse, df_fe3)"
   ]
  },
  {
   "cell_type": "code",
   "execution_count": 189,
   "metadata": {},
   "outputs": [
    {
     "data": {
      "text/plain": [
       "0.8558"
      ]
     },
     "execution_count": 189,
     "metadata": {},
     "output_type": "execute_result"
    }
   ],
   "source": [
    "roc_auc=[]\n",
    "for i in range(10):\n",
    "    sgd.best_estimator_.fit(X_train, y_train)\n",
    "    roc_auc.append(round(roc_auc_score(y_valid, sgd.best_estimator_.predict_proba(X_valid)[:,1]),3))\n",
    "np.mean(roc_auc)"
   ]
  },
  {
   "cell_type": "markdown",
   "metadata": {},
   "source": [
    "Результат стал намного хуже, этого следовало ожидать. \n",
    "\n",
    "Попробуем признак session_timespan. Для нашего пользователя выделялся диапазон 50-100 секунд, закодируем его как 1. Остальное время будет 0.  "
   ]
  },
  {
   "cell_type": "code",
   "execution_count": 191,
   "metadata": {},
   "outputs": [],
   "source": [
    "onehot_encoder = OneHotEncoder(sparse=False)\n",
    "df_fe4 = pd.DataFrame(onehot_encoder.fit_transform(df_fe.iloc[:,[0,1]]))\n",
    "df_fe4['session_timespan'] = [1 if x in range(50,100) else 0 for x in df_fe.session_timespan]\n",
    "df_fe4['user'] = [1 if x==600 else 0 for x in train_test_data.user]"
   ]
  },
  {
   "cell_type": "code",
   "execution_count": 194,
   "metadata": {},
   "outputs": [],
   "source": [
    "X_train, y_train, X_valid, y_valid, X_test, y_test = split(train_test_sparse, df_fe4)"
   ]
  },
  {
   "cell_type": "code",
   "execution_count": 195,
   "metadata": {},
   "outputs": [
    {
     "data": {
      "text/plain": [
       "0.9366"
      ]
     },
     "execution_count": 195,
     "metadata": {},
     "output_type": "execute_result"
    }
   ],
   "source": [
    "roc_auc=[]\n",
    "for i in range(10):\n",
    "    sgd.best_estimator_.fit(X_train, y_train)\n",
    "    roc_auc.append(round(roc_auc_score(y_valid, sgd.best_estimator_.predict_proba(X_valid)[:,1]),3))\n",
    "np.mean(roc_auc)"
   ]
  },
  {
   "cell_type": "markdown",
   "metadata": {},
   "source": [
    "Результат опять не улучшился. \n",
    "Можно сделать вывод, что мы правильно оценили наши признаки по визуальному представлению."
   ]
  },
  {
   "cell_type": "code",
   "execution_count": 202,
   "metadata": {},
   "outputs": [],
   "source": [
    "onehot_encoder = OneHotEncoder(sparse=False)\n",
    "df_fe1 = pd.DataFrame(onehot_encoder.fit_transform(df_fe.iloc[:,:2]))\n",
    "df_fe1['user'] = [1 if x==600 else 0 for x in train_test_data.user]"
   ]
  },
  {
   "cell_type": "code",
   "execution_count": 267,
   "metadata": {},
   "outputs": [],
   "source": [
    "X_train, y_train, X_valid, y_valid, X_test, y_test = split(train_test_sparse, df_fe1)"
   ]
  },
  {
   "cell_type": "markdown",
   "metadata": {},
   "source": [
    "Проверим нашу модель на тестовой выборке"
   ]
  },
  {
   "cell_type": "code",
   "execution_count": 268,
   "metadata": {},
   "outputs": [],
   "source": [
    "X_train_final = vstack((X_train,X_valid))\n",
    "X_train_final = csr_matrix(X_train_final)\n",
    "y_final = pd.concat((y_train, y_valid), axis=0)\n",
    "\n",
    "roc_auc=[]\n",
    "for i in range(10):\n",
    "    sgd.best_estimator_.fit(X_train_final, y_final)\n",
    "    roc_auc.append(round(roc_auc_score(y_test, sgd.best_estimator_.predict_proba(X_test)[:,1]),3))\n",
    "np.mean(roc_auc)\n"
   ]
  },
  {
   "cell_type": "markdown",
   "metadata": {},
   "source": [
    "Результат расстраивает. Посмотрим какой результат можно получить использую нелинейную модель"
   ]
  },
  {
   "cell_type": "code",
   "execution_count": 270,
   "metadata": {},
   "outputs": [
    {
     "name": "stdout",
     "output_type": "stream",
     "text": [
      "0.876\n"
     ]
    }
   ],
   "source": [
    "adaboost = AdaBoostClassifier(n_estimators=100)\n",
    "adaboost.fit(X_train_final, y_final)\n",
    "print(round(roc_auc_score(y_test, adaboost.predict_proba(X_test)[:,1]),3))"
   ]
  },
  {
   "cell_type": "markdown",
   "metadata": {},
   "source": [
    "Бустинг работает даже лучше.\n",
    "\n",
    "Поищем способы улучшить наши предсказания. Возможно этого можно достигнуть используя кодирование индексов сайтов при помощи CountVectorizer. Этот метод позволит использовать не только сами индексы, но и их сочетания - nграммы."
   ]
  },
  {
   "cell_type": "code",
   "execution_count": 207,
   "metadata": {},
   "outputs": [],
   "source": [
    "from sklearn.feature_extraction.text import CountVectorizer"
   ]
  },
  {
   "cell_type": "code",
   "execution_count": 211,
   "metadata": {},
   "outputs": [],
   "source": [
    "str_site=[]\n",
    "for i in train_test_data.iloc[:,15:30].values:\n",
    "    str_site += [str(i).replace('\\n','')[1:-1]]    "
   ]
  },
  {
   "cell_type": "code",
   "execution_count": 221,
   "metadata": {},
   "outputs": [],
   "source": [
    "matrix = CountVectorizer(ngram_range=(1,2)).fit(str_site)\n",
    "train_test_vec = matrix.transform(str_site)"
   ]
  },
  {
   "cell_type": "code",
   "execution_count": 245,
   "metadata": {},
   "outputs": [],
   "source": [
    "X_train, y_train, X_valid, y_valid, X_test, y_test = split(X, df_fe1)"
   ]
  },
  {
   "cell_type": "code",
   "execution_count": 223,
   "metadata": {},
   "outputs": [
    {
     "data": {
      "text/plain": [
       "0.9599"
      ]
     },
     "execution_count": 223,
     "metadata": {},
     "output_type": "execute_result"
    }
   ],
   "source": [
    "roc_auc=[]\n",
    "for i in range(10):\n",
    "    sgd.best_estimator_.fit(X_train, y_train)\n",
    "    roc_auc.append(round(roc_auc_score(y_valid, sgd.best_estimator_.predict_proba(X_valid)[:,1]),3))\n",
    "np.mean(roc_auc)"
   ]
  },
  {
   "cell_type": "markdown",
   "metadata": {},
   "source": [
    "На контрольной выборке наша модель стала работать лучше. Проверим на тестовой"
   ]
  },
  {
   "cell_type": "code",
   "execution_count": 246,
   "metadata": {},
   "outputs": [
    {
     "data": {
      "text/plain": [
       "0.8187999999999999"
      ]
     },
     "execution_count": 246,
     "metadata": {},
     "output_type": "execute_result"
    }
   ],
   "source": [
    "X_train_final = vstack((X_train,X_valid))\n",
    "X_train_final = csr_matrix(X_train_final)\n",
    "y_final = pd.concat((y_train, y_valid), axis=0)\n",
    "\n",
    "roc_auc=[]\n",
    "for i in range(10):\n",
    "    sgd.best_estimator_.fit(X_train_final, y_final)\n",
    "    roc_auc.append(round(roc_auc_score(y_test, sgd.best_estimator_.predict_proba(X_test)[:,1]),3))\n",
    "np.mean(roc_auc)"
   ]
  },
  {
   "cell_type": "markdown",
   "metadata": {},
   "source": [
    "Результат стал только хуже. \n",
    "Вернемся к представлению индексов сайтов через разреженную матрицу и попробуем использовать результаты работы sgd модели в качестве дополнительного признака для обучения адаптивного бустинга."
   ]
  },
  {
   "cell_type": "code",
   "execution_count": 259,
   "metadata": {},
   "outputs": [],
   "source": [
    "X_train, y_train, X_valid, y_valid, X_test, y_test = split(train_test_sparse, df_fe1)"
   ]
  },
  {
   "cell_type": "code",
   "execution_count": 260,
   "metadata": {},
   "outputs": [],
   "source": [
    "X_train_final = vstack((X_train,X_valid))\n",
    "X_train_final = csr_matrix(X_train_final)\n",
    "y_final = pd.concat((y_train, y_valid), axis=0)"
   ]
  },
  {
   "cell_type": "code",
   "execution_count": 261,
   "metadata": {},
   "outputs": [],
   "source": [
    "sepr = int(X_train_final.shape[0]/2)\n",
    "sgd.best_estimator_.fit(X_train_final[:sepr,:], y_final[:sepr])\n",
    "sgd2 = sgd.best_estimator_.predict(X_train_final[sepr:,:])"
   ]
  },
  {
   "cell_type": "code",
   "execution_count": 262,
   "metadata": {},
   "outputs": [],
   "source": [
    "sgd.best_estimator_.fit(X_train_final[sepr:,:], y_final[sepr:])\n",
    "sgd1 = sgd.best_estimator_.predict(X_train_final[:sepr,:])"
   ]
  },
  {
   "cell_type": "code",
   "execution_count": 263,
   "metadata": {},
   "outputs": [],
   "source": [
    "sgd.best_estimator_.fit(X_train_final, y_final)\n",
    "sgd_test = sgd.best_estimator_.predict(X_test)"
   ]
  },
  {
   "cell_type": "code",
   "execution_count": 264,
   "metadata": {},
   "outputs": [],
   "source": [
    "onehot_encoder = OneHotEncoder(sparse=False)\n",
    "df_fe5 = pd.DataFrame(onehot_encoder.fit_transform(df_fe.iloc[:,:2]))\n",
    "df_fe5['sgd'] = np.concatenate([np.concatenate([sgd1,sgd2]), sgd_test])\n",
    "df_fe5['user'] = [1 if x==600 else 0 for x in train_test_data.user]"
   ]
  },
  {
   "cell_type": "code",
   "execution_count": 265,
   "metadata": {},
   "outputs": [],
   "source": [
    "X_train, y_train, X_valid, y_valid, X_test, y_test = split(X, df_fe5)"
   ]
  },
  {
   "cell_type": "code",
   "execution_count": 266,
   "metadata": {},
   "outputs": [
    {
     "name": "stdout",
     "output_type": "stream",
     "text": [
      "0.826\n"
     ]
    }
   ],
   "source": [
    "X_train_final = vstack((X_train,X_valid))\n",
    "X_train_final = csr_matrix(X_train_final)\n",
    "y_final = pd.concat((y_train, y_valid), axis=0)\n",
    "\n",
    "adaboost = AdaBoostClassifier(n_estimators=100)\n",
    "adaboost.fit(X_train_final, y_final)\n",
    "print(round(roc_auc_score(y_test, adaboost.predict_proba(X_test)[:,1]),3))"
   ]
  },
  {
   "cell_type": "markdown",
   "metadata": {},
   "source": [
    "Результат стал хуже"
   ]
  },
  {
   "cell_type": "markdown",
   "metadata": {},
   "source": [
    "## Заключение"
   ]
  },
  {
   "cell_type": "markdown",
   "metadata": {},
   "source": [
    "В процессе работы мы попробовали несколько моделей классификации с разными параметрами и различными признаками. Лучшая точность идентификации пользователя, которую нам удалось получить 0.876 по кривой roc-auc. Результат не очень впечатляющий. Возможно данных за 6.5 месяцев, недостаточно для того, чтобы отследить зависимости в данных."
   ]
  }
 ],
 "metadata": {
  "kernelspec": {
   "display_name": "Python 3",
   "language": "python",
   "name": "python3"
  },
  "language_info": {
   "codemirror_mode": {
    "name": "ipython",
    "version": 3
   },
   "file_extension": ".py",
   "mimetype": "text/x-python",
   "name": "python",
   "nbconvert_exporter": "python",
   "pygments_lexer": "ipython3",
   "version": "3.7.3"
  }
 },
 "nbformat": 4,
 "nbformat_minor": 2
}
